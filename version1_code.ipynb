{
 "cells": [
  {
   "cell_type": "code",
   "execution_count": 93,
   "metadata": {},
   "outputs": [],
   "source": [
    "import pandas as pd"
   ]
  },
  {
   "cell_type": "code",
   "execution_count": 94,
   "metadata": {},
   "outputs": [],
   "source": [
    "df =pd.read_csv(\"toy_u.csv\")"
   ]
  },
  {
   "cell_type": "code",
   "execution_count": 95,
   "metadata": {},
   "outputs": [
    {
     "data": {
      "text/html": [
       "<div>\n",
       "<style scoped>\n",
       "    .dataframe tbody tr th:only-of-type {\n",
       "        vertical-align: middle;\n",
       "    }\n",
       "\n",
       "    .dataframe tbody tr th {\n",
       "        vertical-align: top;\n",
       "    }\n",
       "\n",
       "    .dataframe thead th {\n",
       "        text-align: right;\n",
       "    }\n",
       "</style>\n",
       "<table border=\"1\" class=\"dataframe\">\n",
       "  <thead>\n",
       "    <tr style=\"text-align: right;\">\n",
       "      <th></th>\n",
       "      <th>case:concept:name</th>\n",
       "      <th>concept:name</th>\n",
       "      <th>time:timestamp</th>\n",
       "    </tr>\n",
       "  </thead>\n",
       "  <tbody>\n",
       "    <tr>\n",
       "      <td>0</td>\n",
       "      <td>0</td>\n",
       "      <td>a</td>\n",
       "      <td>2020-11-08 8:01:00</td>\n",
       "    </tr>\n",
       "    <tr>\n",
       "      <td>1</td>\n",
       "      <td>0</td>\n",
       "      <td>b</td>\n",
       "      <td>2020-11-08 8:02:00</td>\n",
       "    </tr>\n",
       "    <tr>\n",
       "      <td>2</td>\n",
       "      <td>0</td>\n",
       "      <td>c</td>\n",
       "      <td>2020-11-08 8:03:00</td>\n",
       "    </tr>\n",
       "    <tr>\n",
       "      <td>3</td>\n",
       "      <td>0</td>\n",
       "      <td>g</td>\n",
       "      <td>2020-11-08 8:04:00</td>\n",
       "    </tr>\n",
       "    <tr>\n",
       "      <td>4</td>\n",
       "      <td>0</td>\n",
       "      <td>e</td>\n",
       "      <td>2020-11-08 8:05:00</td>\n",
       "    </tr>\n",
       "  </tbody>\n",
       "</table>\n",
       "</div>"
      ],
      "text/plain": [
       "   case:concept:name concept:name      time:timestamp\n",
       "0                  0            a  2020-11-08 8:01:00\n",
       "1                  0            b  2020-11-08 8:02:00\n",
       "2                  0            c  2020-11-08 8:03:00\n",
       "3                  0            g  2020-11-08 8:04:00\n",
       "4                  0            e  2020-11-08 8:05:00"
      ]
     },
     "execution_count": 95,
     "metadata": {},
     "output_type": "execute_result"
    }
   ],
   "source": [
    "df.head()"
   ]
  },
  {
   "cell_type": "code",
   "execution_count": 96,
   "metadata": {},
   "outputs": [
    {
     "data": {
      "text/plain": [
       "Index(['case:concept:name', 'concept:name', 'time:timestamp'], dtype='object')"
      ]
     },
     "execution_count": 96,
     "metadata": {},
     "output_type": "execute_result"
    }
   ],
   "source": [
    "df.columns"
   ]
  },
  {
   "cell_type": "code",
   "execution_count": 97,
   "metadata": {},
   "outputs": [
    {
     "data": {
      "text/plain": [
       "array([0, 1, 2, 3, 4, 5], dtype=int64)"
      ]
     },
     "execution_count": 97,
     "metadata": {},
     "output_type": "execute_result"
    }
   ],
   "source": [
    "df[df.columns[0]].unique()"
   ]
  },
  {
   "cell_type": "code",
   "execution_count": 98,
   "metadata": {},
   "outputs": [],
   "source": [
    "def two_combination(activity):\n",
    "    for i in range(len(activity)-1):\n",
    "        if i == 0:\n",
    "            two_comb.append([activity[i],activity[i+1]])\n",
    "        else:\n",
    "            two_comb.append([activity[i],activity[i+1]])\n",
    "\n",
    "def three_combination(activity):\n",
    "    for i in range(len(activity)-2):\n",
    "        if i == 0:\n",
    "            three_comb.append([activity[i],activity[i+1],activity[i+2]])\n",
    "        else:\n",
    "            three_comb.append([activity[i],activity[i+1],activity[i+2]])\n",
    "\n",
    "\n",
    "def four_combination(activity):\n",
    "    for i in range(len(activity)-3):\n",
    "        if i == 0:\n",
    "            four_comb.append([activity[i],activity[i+1],activity[i+2],activity[i+3]])\n",
    "        else:\n",
    "            four_comb.append([activity[i],activity[i+1],activity[i+2],activity[i+3]])\n",
    "\n",
    "def five_combination(activity):\n",
    "    for i in range(len(activity)-4):\n",
    "        if i == 0:\n",
    "            five_comb.append([activity[i],activity[i+1],activity[i+2],activity[i+3],activity[i+4]])\n",
    "        else:\n",
    "            five_comb.append([activity[i],activity[i+1],activity[i+2],activity[i+3],activity[i+4]])\n",
    "\n",
    "def six_combination(activity):\n",
    "    for i in range(len(activity)-5):\n",
    "        if i == 0:\n",
    "            six_comb.append([activity[i],activity[i+1],activity[i+2],activity[i+3],activity[i+4],activity[i+5]])\n",
    "        else:\n",
    "            six_comb.append([activity[i],activity[i+1],activity[i+2],activity[i+3],activity[i+4],activity[i+5]])\n"
   ]
  },
  {
   "cell_type": "code",
   "execution_count": 99,
   "metadata": {},
   "outputs": [],
   "source": [
    "def ativity_merger(combinations_list):\n",
    "    \n",
    "    # Merging activities\n",
    "    after_merge = []\n",
    "    for i in combinations_list:\n",
    "        after_merge.append(''.join(i))\n",
    "    \n",
    "    # Removing duplicates\n",
    "    final = [] \n",
    "    for i in after_merge: \n",
    "        if i not in final: \n",
    "            final.append(i) \n",
    "        \n",
    "    return final"
   ]
  },
  {
   "cell_type": "code",
   "execution_count": 100,
   "metadata": {},
   "outputs": [],
   "source": [
    "one_activity = []\n",
    "two_comb = []\n",
    "three_comb = []\n",
    "four_comb = []\n",
    "five_comb = []\n",
    "six_comb = []\n",
    "for case_id in df[df.columns[0]].unique():\n",
    "    sub = df[df[df.columns[0]]== case_id]\n",
    "    sub = sub.reset_index(drop=True)\n",
    "    sub[df.columns[2]] = pd.to_datetime(sub[df.columns[2]] )\n",
    "    sub = sub.sort_values(by=['time:timestamp'])\n",
    "    if len(sub)>= 2:\n",
    "        activity = list(sub['concept:name'])\n",
    "        if len(sub) >= 2:\n",
    "            two_combination(activity)\n",
    "        if len(sub) >= 3:\n",
    "            three_combination(activity)\n",
    "        if len(sub) >= 4:\n",
    "            four_combination(activity)\n",
    "        if len(sub) >= 5:\n",
    "            five_combination(activity)\n",
    "        if len(sub) >= 6:\n",
    "            six_combination(activity)\n",
    "        if len(sub) >= 7:\n",
    "            seventh_combination(activity)\n",
    "    else:\n",
    "        one_activity.append(list(sub['concept:name']))\n",
    "\n"
   ]
  },
  {
   "cell_type": "code",
   "execution_count": 101,
   "metadata": {},
   "outputs": [],
   "source": [
    "two_combination_unique = ativity_merger(two_comb)\n",
    "three_combination_unique = ativity_merger(three_comb)\n",
    "four_combination_unique = ativity_merger(four_comb)\n",
    "five_combination_unique = ativity_merger(five_comb)"
   ]
  },
  {
   "cell_type": "code",
   "execution_count": 102,
   "metadata": {},
   "outputs": [
    {
     "data": {
      "text/plain": [
       "15"
      ]
     },
     "execution_count": 102,
     "metadata": {},
     "output_type": "execute_result"
    }
   ],
   "source": [
    "len(two_combination_unique)"
   ]
  },
  {
   "cell_type": "code",
   "execution_count": 111,
   "metadata": {},
   "outputs": [],
   "source": []
  },
  {
   "cell_type": "code",
   "execution_count": 112,
   "metadata": {},
   "outputs": [],
   "source": [
    "result = activity_sequence_founder(df,two_combination,two_combination_unique)"
   ]
  },
  {
   "cell_type": "code",
   "execution_count": 114,
   "metadata": {},
   "outputs": [],
   "source": [
    "result = activity_sequence_founder(df,three_combination,three_combination_unique)"
   ]
  },
  {
   "cell_type": "code",
   "execution_count": 115,
   "metadata": {},
   "outputs": [
    {
     "data": {
      "text/plain": [
       "{'abc': 2,\n",
       " 'bcg': 1,\n",
       " 'cge': 1,\n",
       " 'geh': 1,\n",
       " 'bcf': 1,\n",
       " 'cfg': 1,\n",
       " 'fgh': 1,\n",
       " 'abd': 2,\n",
       " 'bde': 2,\n",
       " 'deg': 2,\n",
       " 'egh': 2,\n",
       " 'abe': 2,\n",
       " 'bec': 1,\n",
       " 'ecg': 1,\n",
       " 'cgh': 1,\n",
       " 'bed': 1,\n",
       " 'edg': 1,\n",
       " 'dgh': 1}"
      ]
     },
     "execution_count": 115,
     "metadata": {},
     "output_type": "execute_result"
    }
   ],
   "source": [
    "result"
   ]
  },
  {
   "cell_type": "code",
   "execution_count": 109,
   "metadata": {},
   "outputs": [],
   "source": [
    "two_comb_counts = {}\n",
    "for case_id in df[df.columns[0]].unique():\n",
    "    sub = df[df[df.columns[0]]== case_id]\n",
    "    sub = sub.reset_index(drop=True)\n",
    "    #sub[df.columns[2]] = pd.to_datetime(sub[df.columns[2]] )\n",
    "    #sub = sub.sort_values(by=['time:timestamp'])\n",
    "    if len(sub)>= 2:\n",
    "        activity = list(sub['concept:name'])\n",
    "        if len(sub) >= 2:\n",
    "            two_combinations = two_combination(activity)\n",
    "            two_combinations = ativity_merger(two_combinations)\n",
    "            for c in two_combination_unique:\n",
    "                if c in two_combinations:\n",
    "                    if c not in two_comb_counts.keys():\n",
    "                        two_comb_counts[c] = 1\n",
    "                    else:\n",
    "                        two_comb_counts[c] += 1\n",
    "\n"
   ]
  },
  {
   "cell_type": "code",
   "execution_count": 110,
   "metadata": {},
   "outputs": [
    {
     "data": {
      "text/plain": [
       "{'ab': 6,\n",
       " 'bc': 2,\n",
       " 'cg': 2,\n",
       " 'ge': 1,\n",
       " 'eh': 1,\n",
       " 'cf': 1,\n",
       " 'fg': 1,\n",
       " 'gh': 5,\n",
       " 'bd': 2,\n",
       " 'de': 2,\n",
       " 'eg': 2,\n",
       " 'be': 2,\n",
       " 'ec': 1,\n",
       " 'ed': 1,\n",
       " 'dg': 1}"
      ]
     },
     "execution_count": 110,
     "metadata": {},
     "output_type": "execute_result"
    }
   ],
   "source": [
    "two_comb_counts"
   ]
  },
  {
   "cell_type": "code",
   "execution_count": null,
   "metadata": {},
   "outputs": [],
   "source": [
    "for case_id in df[df.columns[0]].unique():\n",
    "    sub = df[df[df.columns[0]]== case_id]\n",
    "    sub = sub.reset_index(drop=True)\n",
    "    sub[df.columns[2]] = pd.to_datetime(sub[df.columns[2]] )\n",
    "    sub = sub.sort_values(by=['time:timestamp'])\n",
    "    if len(sub)>= 2:\n",
    "        activity = list(sub['concept:name'])\n",
    "        if len(sub) >= 2:\n",
    "            two_combinations = two_combination(activity)\n",
    "        if len(sub) >= 3:\n",
    "            teo_combinations = three_combination(activity)\n",
    "        if len(sub) >= 4:\n",
    "            four_combination(activity)\n",
    "        if len(sub) >= 5:\n",
    "            five_combination(activity)\n",
    "        if len(sub) >= 6:\n",
    "            six_combination(activity)\n",
    "        if len(sub) >= 7:\n",
    "            seventh_combination(activity)\n",
    "    else:\n",
    "        one_activity.append(list(sub['concept:name']))"
   ]
  },
  {
   "cell_type": "code",
   "execution_count": 107,
   "metadata": {},
   "outputs": [],
   "source": []
  },
  {
   "cell_type": "code",
   "execution_count": 39,
   "metadata": {},
   "outputs": [
    {
     "name": "stdout",
     "output_type": "stream",
     "text": [
      "['a', 'b', 'c', 'g', 'e', 'h']\n"
     ]
    }
   ],
   "source": [
    "two_comb = []\n",
    "three_comb = []\n",
    "four_comb = []\n",
    "five_comb = []\n",
    "for case_id in df[df.columns[0]].unique():\n",
    "    sub = df[df[df.columns[0]]== case_id]\n",
    "    sub = sub.reset_index(drop=True)\n",
    "    sub[df.columns[2]] = pd.to_datetime(sub[df.columns[2]] )\n",
    "    sub = sub.sort_values(by=['time:timestamp'])\n",
    "    if len(sub)>= 2:\n",
    "        activity = list(sub['concept:name'])\n",
    "        print(activity)\n",
    "        for i in range(len(activity)-1):\n",
    "            if i == 0:\n",
    "                two_comb.append([activity[i],activity[i+1]])\n",
    "            else:\n",
    "                two_comb.append([activity[i],activity[i+1]])\n",
    "                \n",
    "        for i in range(len(activity)-2):\n",
    "            if i == 0:\n",
    "                three_comb.append([activity[i],activity[i+1],activity[i+2]])\n",
    "            else:\n",
    "                three_comb.append([activity[i],activity[i+1],activity[i+2]])\n",
    "                \n",
    "        for i in range(len(activity)-3):\n",
    "            if i == 0:\n",
    "                four_comb.append([activity[i],activity[i+1],activity[i+2],activity[i+3]])\n",
    "            else:\n",
    "                four_comb.append([activity[i],activity[i+1],activity[i+2],activity[i+3]])\n",
    "                \n",
    "        for i in range(len(activity)-4):\n",
    "            if i == 0:\n",
    "                five_comb.append([activity[i],activity[i+1],activity[i+2],activity[i+3],activity[i+4]])\n",
    "            else:\n",
    "                five_comb.append([activity[i],activity[i+1],activity[i+2],activity[i+3],activity[i+4]])\n",
    "            \n",
    "        \n",
    "    #activity_list = ','.join(list(sub['concept:name']))\n",
    "    #traces.append(activity_list)\n",
    "    break"
   ]
  }
 ],
 "metadata": {
  "kernelspec": {
   "display_name": "Python 3",
   "language": "python",
   "name": "python3"
  },
  "language_info": {
   "codemirror_mode": {
    "name": "ipython",
    "version": 3
   },
   "file_extension": ".py",
   "mimetype": "text/x-python",
   "name": "python",
   "nbconvert_exporter": "python",
   "pygments_lexer": "ipython3",
   "version": "3.7.4"
  }
 },
 "nbformat": 4,
 "nbformat_minor": 2
}
